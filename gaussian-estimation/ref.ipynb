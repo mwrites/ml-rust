{
 "cells": [
  {
   "cell_type": "code",
   "execution_count": 28,
   "metadata": {},
   "outputs": [
    {
     "name": "stdout",
     "output_type": "stream",
     "text": [
      "Best epsilon: 0.00569703416354232, Best F1-Score: 0.6732673267326733\n"
     ]
    },
    {
     "data": {
      "application/vnd.jupyter.widget-view+json": {
       "model_id": "d30f17a1a41a4d459760230018e8b263",
       "version_major": 2,
       "version_minor": 0
      },
      "text/plain": [
       "interactive(children=(FloatSlider(value=0.00569703416354232, description='threshold', max=0.01139406832708464,…"
      ]
     },
     "metadata": {},
     "output_type": "display_data"
    },
    {
     "ename": "TypeError",
     "evalue": "plot_results() takes 4 positional arguments but 5 were given",
     "output_type": "error",
     "traceback": [
      "\u001b[0;31m---------------------------------------------------------------------------\u001b[0m",
      "\u001b[0;31mTypeError\u001b[0m                                 Traceback (most recent call last)",
      "Cell \u001b[0;32mIn[28], line 96\u001b[0m\n\u001b[1;32m     93\u001b[0m     plot_results(X, y, mu, cov, threshold)\n\u001b[1;32m     95\u001b[0m \u001b[38;5;66;03m# Initial plot\u001b[39;00m\n\u001b[0;32m---> 96\u001b[0m \u001b[43mupdate_plot\u001b[49m\u001b[43m(\u001b[49m\u001b[43mbest_epsilon\u001b[49m\u001b[43m)\u001b[49m\n",
      "Cell \u001b[0;32mIn[28], line 93\u001b[0m, in \u001b[0;36mupdate_plot\u001b[0;34m(threshold)\u001b[0m\n\u001b[1;32m     91\u001b[0m \u001b[38;5;129m@interact\u001b[39m(threshold\u001b[38;5;241m=\u001b[39mFloatSlider(\u001b[38;5;28mmin\u001b[39m\u001b[38;5;241m=\u001b[39m\u001b[38;5;241m0\u001b[39m, \u001b[38;5;28mmax\u001b[39m\u001b[38;5;241m=\u001b[39mbest_epsilon\u001b[38;5;241m*\u001b[39m\u001b[38;5;241m2\u001b[39m, step\u001b[38;5;241m=\u001b[39mbest_epsilon\u001b[38;5;241m/\u001b[39m\u001b[38;5;241m100\u001b[39m, value\u001b[38;5;241m=\u001b[39mbest_epsilon))\n\u001b[1;32m     92\u001b[0m \u001b[38;5;28;01mdef\u001b[39;00m \u001b[38;5;21mupdate_plot\u001b[39m(threshold):\n\u001b[0;32m---> 93\u001b[0m     \u001b[43mplot_results\u001b[49m\u001b[43m(\u001b[49m\u001b[43mX\u001b[49m\u001b[43m,\u001b[49m\u001b[43m \u001b[49m\u001b[43my\u001b[49m\u001b[43m,\u001b[49m\u001b[43m \u001b[49m\u001b[43mmu\u001b[49m\u001b[43m,\u001b[49m\u001b[43m \u001b[49m\u001b[43mcov\u001b[49m\u001b[43m,\u001b[49m\u001b[43m \u001b[49m\u001b[43mthreshold\u001b[49m\u001b[43m)\u001b[49m\n",
      "\u001b[0;31mTypeError\u001b[0m: plot_results() takes 4 positional arguments but 5 were given"
     ]
    }
   ],
   "source": [
    "import numpy as np\n",
    "import matplotlib.pyplot as plt\n",
    "from ipywidgets import interact, FloatSlider\n",
    "%matplotlib inline\n",
    "\n",
    "def generate_data(n_samples=1000, n_outliers=50):\n",
    "    np.random.seed(42)\n",
    "    X = np.random.randn(n_samples - n_outliers, 2)\n",
    "    outliers = np.random.uniform(low=-4, high=4, size=(n_outliers, 2))\n",
    "    X = np.vstack((X, outliers))\n",
    "    y = np.zeros(n_samples)\n",
    "    y[-n_outliers:] = 1  # Mark outliers as 1\n",
    "    return X, y\n",
    "\n",
    "\n",
    "def plot_results(X, y, mu, cov, threshold):\n",
    "    xx, yy = np.meshgrid(np.linspace(-5, 5, 100), np.linspace(-5, 5, 100))\n",
    "    X_grid = np.c_[xx.ravel(), yy.ravel()]\n",
    "    \n",
    "    Z = multivariate_normal_pdf(X_grid, mu, cov)\n",
    "    Z = Z.reshape(xx.shape)\n",
    "    \n",
    "    plt.figure(figsize=(10, 8))\n",
    "    plt.contourf(xx, yy, Z, levels=10, cmap='viridis', alpha=0.6)\n",
    "    plt.colorbar()\n",
    "    \n",
    "    # Plot all points\n",
    "    normal = y == 0\n",
    "    outliers = y == 1\n",
    "    plt.scatter(X[normal, 0], X[normal, 1], c='blue', alpha=0.5, label='Normal')\n",
    "    plt.scatter(X[outliers, 0], X[outliers, 1], c='red', marker='x', s=100, label='True Outliers')\n",
    "    \n",
    "    # Identify and mark predicted outliers\n",
    "    p_val = multivariate_normal_pdf(X, mu, cov)\n",
    "    pred_outliers = p_val < threshold\n",
    "    plt.scatter(X[pred_outliers & normal, 0], X[pred_outliers & normal, 1], \n",
    "                facecolors='none', edgecolors='green', s=100, label='Predicted Outliers')\n",
    "    \n",
    "    plt.title(f\"Gaussian Distribution with Outliers (Threshold: {threshold:.6f})\")\n",
    "    plt.xlabel('X')\n",
    "    plt.ylabel('Y')\n",
    "    plt.legend()\n",
    "    plt.show()\n",
    "\n",
    "\n",
    "# The interesting part\n",
    "def estimate_gaussian(X):\n",
    "    mu = np.mean(X, axis=0)\n",
    "    cov = np.cov(X.T)\n",
    "    return mu, cov\n",
    "\n",
    "\n",
    "def select_threshold(y_val, p_val): \n",
    "    best_epsilon = 0\n",
    "    best_F1 = 0\n",
    "    F1 = 0\n",
    "    step_size = (max(p_val) - min(p_val)) / 1000\n",
    "    for epsilon in np.arange(min(p_val), max(p_val), step_size):\n",
    "        pred = p_val < epsilon\n",
    "        tp = np.sum((y_val == 1) & (pred == 1))\n",
    "        fp = np.sum((y_val == 0) & (pred == 1))\n",
    "        fn = np.sum((y_val == 1) & (pred == 0))\n",
    "        prec = tp / (tp + fp) if (tp + fp) > 0 else 0\n",
    "        rec = tp / (tp + fn) if (tp + fn) > 0 else 0\n",
    "        F1 = (2 * prec * rec) / (prec + rec) if (prec + rec) > 0 else 0\n",
    "        if F1 > best_F1:\n",
    "            best_F1 = F1\n",
    "            best_epsilon = epsilon\n",
    "    return best_epsilon, best_F1\n",
    "\n",
    "\n",
    "def multivariate_normal_pdf(X, mu, cov):\n",
    "    n = mu.shape[0]\n",
    "    diff = X - mu\n",
    "    cov_det = np.linalg.det(cov)\n",
    "    cov_inv = np.linalg.inv(cov)\n",
    "    norm_const = 1.0 / (np.power((2 * np.pi), n / 2) * np.sqrt(cov_det))\n",
    "    result = norm_const * np.exp(-0.5 * np.sum(np.dot(diff, cov_inv) * diff, axis=1))\n",
    "    return result\n",
    "\n",
    "\n",
    "# Main execution\n",
    "X, y = generate_data()\n",
    "mu, cov = estimate_gaussian(X)\n",
    "\n",
    "# Calculate probabilities\n",
    "p_val = multivariate_normal_pdf(X, mu, cov)\n",
    "\n",
    "# Calculate initial threshold\n",
    "best_epsilon, best_F1 = select_threshold(y, p_val)\n",
    "print(f\"Best epsilon: {best_epsilon}, Best F1-Score: {best_F1}\")\n",
    "\n",
    "# Interactive plot with slider\n",
    "@interact(threshold=FloatSlider(min=0, max=best_epsilon*2, step=best_epsilon/100, value=best_epsilon))\n",
    "def update_plot(threshold):\n",
    "    plot_results(X, y, mu, cov, threshold)\n",
    "\n",
    "# Initial plot\n",
    "update_plot(best_epsilon)"
   ]
  },
  {
   "cell_type": "code",
   "execution_count": null,
   "metadata": {},
   "outputs": [],
   "source": []
  }
 ],
 "metadata": {
  "kernelspec": {
   "display_name": "base",
   "language": "python",
   "name": "python3"
  },
  "language_info": {
   "codemirror_mode": {
    "name": "ipython",
    "version": 3
   },
   "file_extension": ".py",
   "mimetype": "text/x-python",
   "name": "python",
   "nbconvert_exporter": "python",
   "pygments_lexer": "ipython3",
   "version": "3.12.2"
  }
 },
 "nbformat": 4,
 "nbformat_minor": 2
}
